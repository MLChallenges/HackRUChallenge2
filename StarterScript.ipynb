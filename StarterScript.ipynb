{
 "cells": [
  {
   "cell_type": "code",
   "execution_count": 3,
   "metadata": {
    "collapsed": false
   },
   "outputs": [],
   "source": [
    "%matplotlib inline\n",
    "\n",
    "import pandas as pd\n",
    "import numpy as np\n",
    "import matplotlib.pyplot as plt\n",
    "import seaborn as sns\n",
    "\n",
    "from sklearn.linear_model import LogisticRegression\n",
    "from sklearn.svm import SVC, LinearSVC\n",
    "from sklearn.ensemble import RandomForestClassifier\n",
    "from sklearn.neighbors import KNeighborsClassifier\n",
    "from sklearn.naive_bayes import GaussianNB\n",
    "from sklearn import cross_validation\n",
    "\n",
    "df = pd.read_csv(\"/Users/Documents/HackRU_train.csv\")\n",
    "\n",
    "from sklearn.model_selection import train_test_split\n",
    "\n",
    "train, test = train_test_split(df, test_size=0.2)\n",
    "\n",
    "train, dev = train_test_split(train, test_size=0.2)\n",
    "\n",
    "X_train = train.drop([\"LowestRisk\", \"Id\"],axis=1)\n",
    "Y_train = train[\"LowestRisk\"].to_frame()\n",
    "X_dev  = dev.drop([\"LowestRisk\", \"Id\"],axis=1).copy()\n",
    "Y_dev = dev[\"LowestRisk\"].to_frame()"
   ]
  },
  {
   "cell_type": "code",
   "execution_count": 4,
   "metadata": {
    "collapsed": false
   },
   "outputs": [
    {
     "name": "stdout",
     "output_type": "stream",
     "text": [
      "47504\n",
      "9501\n",
      "30402\n",
      "7601\n"
     ]
    }
   ],
   "source": [
    "print len(df)\n",
    "print len(test)\n",
    "print len(train)\n",
    "print len(dev)"
   ]
  },
  {
   "cell_type": "code",
   "execution_count": 5,
   "metadata": {
    "collapsed": false
   },
   "outputs": [
    {
     "name": "stdout",
     "output_type": "stream",
     "text": [
      "<class 'pandas.core.frame.DataFrame'>\n",
      "Int64Index: 30402 entries, 18595 to 40570\n",
      "Columns: 127 entries, Unnamed: 0 to Approved\n",
      "dtypes: float64(18), int64(109)\n",
      "memory usage: 29.7 MB\n"
     ]
    }
   ],
   "source": [
    "X_train.info()\n"
   ]
  },
  {
   "cell_type": "code",
   "execution_count": 6,
   "metadata": {
    "collapsed": false
   },
   "outputs": [
    {
     "name": "stderr",
     "output_type": "stream",
     "text": [
      "/Users/x208937/anaconda/lib/python2.7/site-packages/ipykernel/__main__.py:5: DataConversionWarning: A column-vector y was passed when a 1d array was expected. Please change the shape of y to (n_samples, ), for example using ravel().\n"
     ]
    },
    {
     "name": "stdout",
     "output_type": "stream",
     "text": [
      "Mean accuracy on dev set for 2 =  0.641626101829\n",
      "             precision    recall  f1-score   support\n",
      "\n",
      "          0       0.68      0.88      0.77      5144\n",
      "          1       0.37      0.15      0.21      2457\n",
      "\n",
      "avg / total       0.58      0.64      0.59      7601\n",
      "\n"
     ]
    }
   ],
   "source": [
    "from sklearn.metrics import classification_report\n",
    "# get the Classifier algorithm instance\n",
    "clf = KNeighborsClassifier(n_neighbors=2)\n",
    "#fit the data\n",
    "clf.fit(X_train.values, Y_train.values)\n",
    "#get the score\n",
    "accuracy = clf.score(X_dev, Y_dev)\n",
    "#print the accuaracy\n",
    "\n",
    "print(\"Mean accuracy on dev set for 2 =  %s\" % (accuracy))\n",
    "\n",
    "result = clf.predict(X_dev)\n",
    "print (classification_report(Y_dev, result))"
   ]
  },
  {
   "cell_type": "code",
   "execution_count": null,
   "metadata": {
    "collapsed": true
   },
   "outputs": [],
   "source": []
  }
 ],
 "metadata": {
  "kernelspec": {
   "display_name": "Python 2",
   "language": "python",
   "name": "python2"
  },
  "language_info": {
   "codemirror_mode": {
    "name": "ipython",
    "version": 2
   },
   "file_extension": ".py",
   "mimetype": "text/x-python",
   "name": "python",
   "nbconvert_exporter": "python",
   "pygments_lexer": "ipython2",
   "version": "2.7.13"
  }
 },
 "nbformat": 4,
 "nbformat_minor": 2
}
